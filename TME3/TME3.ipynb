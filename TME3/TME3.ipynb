{
 "cells": [
  {
   "cell_type": "code",
   "execution_count": 1,
   "metadata": {},
   "outputs": [
    {
     "name": "stderr",
     "output_type": "stream",
     "text": [
      "2023-10-15 21:54:35.405088: I tensorflow/core/platform/cpu_feature_guard.cc:182] This TensorFlow binary is optimized to use available CPU instructions in performance-critical operations.\n",
      "To enable the following instructions: AVX2 FMA, in other operations, rebuild TensorFlow with the appropriate compiler flags.\n",
      "2023-10-15 21:54:36.228071: W tensorflow/compiler/tf2tensorrt/utils/py_utils.cc:38] TF-TRT Warning: Could not find TensorRT\n"
     ]
    },
    {
     "name": "stdout",
     "output_type": "stream",
     "text": [
      "Defaulting to user installation because normal site-packages is not writeable\n",
      "Requirement already satisfied: attrs in /home/pidoux/.local/lib/python3.10/site-packages (23.1.0)\n",
      "\n",
      "\u001b[1m[\u001b[0m\u001b[34;49mnotice\u001b[0m\u001b[1;39;49m]\u001b[0m\u001b[39;49m A new release of pip is available: \u001b[0m\u001b[31;49m23.2.1\u001b[0m\u001b[39;49m -> \u001b[0m\u001b[32;49m23.3\u001b[0m\n",
      "\u001b[1m[\u001b[0m\u001b[34;49mnotice\u001b[0m\u001b[1;39;49m]\u001b[0m\u001b[39;49m To update, run: \u001b[0m\u001b[32;49mpip install --upgrade pip\u001b[0m\n",
      "Note: you may need to restart the kernel to use updated packages.\n"
     ]
    },
    {
     "name": "stderr",
     "output_type": "stream",
     "text": [
      "100%|██████████| 4.54k/4.54k [00:00<00:00, 5.16MB/s]\n",
      "100%|██████████| 1.65M/1.65M [00:00<00:00, 3.48MB/s]\n",
      "100%|██████████| 28.9k/28.9k [00:00<00:00, 280kB/s] \n",
      "100%|██████████| 9.91M/9.91M [00:07<00:00, 1.27MB/s]\n"
     ]
    }
   ],
   "source": [
    "from pathlib import Path\n",
    "import os\n",
    "import torch\n",
    "from torchvision.utils import make_grid\n",
    "from torch.utils.data import Dataset, DataLoader\n",
    "import torch.nn as nn\n",
    "import torch.nn.functional as F\n",
    "from torch.utils.tensorboard import SummaryWriter\n",
    "import numpy as np\n",
    "import datetime\n",
    "import torch.optim as optim\n",
    "from tqdm import tqdm\n",
    "#%pip install --upgrade attrs\n",
    "\n",
    "\n",
    "\n",
    "# Téléchargement des données\n",
    "\n",
    "from datamaestro import prepare_dataset\n",
    "ds = prepare_dataset(\"com.lecun.mnist\");\n",
    "train_images, train_labels = ds.train.images.data(), ds.train.labels.data()\n",
    "test_images, test_labels =  ds.test.images.data(), ds.test.labels.data()\n",
    "\n",
    "# Tensorboard : rappel, lancer dans une console tensorboard --logdir runs\n",
    "writer = SummaryWriter(\"runs/runs\"+datetime.datetime.now().strftime(\"%Y%m%d-%H%M%S\"))\n",
    "\n",
    "# Pour visualiser\n",
    "# Les images doivent etre en format Channel (3) x Hauteur x Largeur\n",
    "images = torch.tensor(train_images[0:8]).unsqueeze(1).repeat(1,3,1,1).double()/255.\n",
    "# Permet de fabriquer une grille d'images\n",
    "images = make_grid(images)\n",
    "# Affichage avec tensorboard\n",
    "writer.add_image(f'samples', images, 0)\n",
    "\n",
    "\n",
    "savepath = Path(\"model.pch\")\n",
    "\n",
    "\n",
    "class MonDataset(Dataset):\n",
    "    def __init__(self, images, labels):\n",
    "        self.images = images\n",
    "        self.labels = labels\n",
    "\n",
    "    def __getitem__(self, index):\n",
    "        image = self.images[index]\n",
    "        label = self.labels[index]\n",
    "        return image, label\n",
    "    \n",
    "    def __len__(self):\n",
    "        return len(self.images)"
   ]
  },
  {
   "cell_type": "code",
   "execution_count": 2,
   "metadata": {},
   "outputs": [
    {
     "name": "stdout",
     "output_type": "stream",
     "text": [
      "(60000, 28, 28)\n",
      "(10000, 28, 28)\n"
     ]
    }
   ],
   "source": [
    "print(train_images.shape)\n",
    "print(test_images.shape)\n"
   ]
  },
  {
   "cell_type": "code",
   "execution_count": 4,
   "metadata": {},
   "outputs": [
    {
     "name": "stdout",
     "output_type": "stream",
     "text": [
      "\n",
      "size :  32\n"
     ]
    },
    {
     "name": "stderr",
     "output_type": "stream",
     "text": [
      "/home/pidoux/.local/lib/python3.10/site-packages/torch/utils/data/_utils/collate.py:171: UserWarning: The given NumPy array is not writable, and PyTorch does not support non-writable tensors. This means writing to this tensor will result in undefined behavior. You may want to copy the array to protect its data or make it writable before converting it to a tensor. This type of warning will be suppressed for the rest of this program. (Triggered internally at ../torch/csrc/utils/tensor_numpy.cpp:206.)\n",
      "  return collate([torch.as_tensor(b) for b in batch], collate_fn_map=collate_fn_map)\n"
     ]
    },
    {
     "name": "stdout",
     "output_type": "stream",
     "text": [
      "Train Epoch: 0 \tLoss: 0.205389\n",
      "Train Epoch: 1 \tLoss: 0.117593\n",
      "Train Epoch: 2 \tLoss: 0.103722\n",
      "Train Epoch: 3 \tLoss: 0.061561\n",
      "Train Epoch: 4 \tLoss: 0.019130\n",
      "Train Epoch: 5 \tLoss: 0.006933\n",
      "Train Epoch: 6 \tLoss: 0.064064\n",
      "Train Epoch: 7 \tLoss: 0.143901\n",
      "Train Epoch: 8 \tLoss: 0.008265\n",
      "Train Epoch: 9 \tLoss: 0.005987\n",
      "\n",
      "size :  128\n",
      "Train Epoch: 0 \tLoss: 0.196057\n",
      "Train Epoch: 1 \tLoss: 0.137015\n",
      "Train Epoch: 2 \tLoss: 0.067686\n",
      "Train Epoch: 3 \tLoss: 0.098804\n",
      "Train Epoch: 4 \tLoss: 0.105168\n",
      "Train Epoch: 5 \tLoss: 0.090326\n",
      "Train Epoch: 6 \tLoss: 0.127438\n",
      "Train Epoch: 7 \tLoss: 0.093357\n",
      "Train Epoch: 8 \tLoss: 0.173756\n",
      "Train Epoch: 9 \tLoss: 0.048117\n",
      "\n",
      "size :  256\n",
      "Train Epoch: 0 \tLoss: 0.254771\n",
      "Train Epoch: 1 \tLoss: 0.189312\n",
      "Train Epoch: 2 \tLoss: 0.222605\n",
      "Train Epoch: 3 \tLoss: 0.180836\n",
      "Train Epoch: 4 \tLoss: 0.208006\n",
      "Train Epoch: 5 \tLoss: 0.137836\n",
      "Train Epoch: 6 \tLoss: 0.062540\n",
      "Train Epoch: 7 \tLoss: 0.068545\n",
      "Train Epoch: 8 \tLoss: 0.027037\n",
      "Train Epoch: 9 \tLoss: 0.029131\n"
     ]
    }
   ],
   "source": [
    "num_epochs = 10\n",
    "batch_sizes = [32, 128, 256]\n",
    "log_interval = 100\n",
    "\n",
    "input_size = 28 * 28  \n",
    "hidden_size = 128  \n",
    "output_size = 10  \n",
    "\n",
    "\n",
    "for batch_size in batch_sizes:\n",
    "    print(\"\\nsize : \", batch_size)\n",
    "    train_loader = DataLoader(MonDataset(train_images, train_labels), batch_size=batch_size, shuffle=True)\n",
    "    \n",
    "    model = nn.Sequential(\n",
    "        nn.Linear(input_size, hidden_size),\n",
    "        nn.ReLU(),\n",
    "        nn.Linear(hidden_size, output_size)\n",
    "    )\n",
    "\n",
    "    criterion = nn.CrossEntropyLoss()  \n",
    "    optimizer = optim.Adam(model.parameters(), lr=0.001)\n",
    "\n",
    "    for epoch in range(num_epochs):\n",
    "        for batch_idx, (images, labels) in enumerate(train_loader):\n",
    "            images = images.reshape(-1, 28 * 28)/255.\n",
    "            optimizer.zero_grad()\n",
    "            outputs = model(images)\n",
    "            loss = criterion(outputs, labels)\n",
    "            loss.backward()\n",
    "            optimizer.step()\n",
    "\n",
    "        print('Train Epoch: {} \\tLoss: {:.6f}'.format(epoch, loss.item()))"
   ]
  },
  {
   "cell_type": "markdown",
   "metadata": {},
   "source": [
    "L'avantage de l'initialisation des poids du décodeur avec la transposée des poids de l'encodeur est que cela aide le modèle à converger plus rapidement. En utilisant cette initialisation, le décodeur est initialement proche de l'inverse de l'encodeur, ce qui permet une meilleure reconstruction des données lors de l'apprentissage. Cela peut accélérer la convergence de l'autoencodeur lors de l'apprentissage non supervisé."
   ]
  },
  {
   "cell_type": "code",
   "execution_count": 40,
   "metadata": {},
   "outputs": [],
   "source": [
    "\n",
    "class Autoencoder(nn.Module):\n",
    "    def __init__(self, input_dim, encoding_dim):\n",
    "        super(Autoencoder, self).__init__()\n",
    "        self.encoder = nn.Sequential(\n",
    "            nn.Linear(input_dim, encoding_dim),\n",
    "            nn.ReLU()\n",
    "        )\n",
    "        self.decoder = nn.Sequential(\n",
    "            nn.Linear(encoding_dim, input_dim),\n",
    "            nn.Sigmoid()\n",
    "        )\n",
    "\n",
    "    def forward(self, x):\n",
    "        encoded = self.encoder(x)\n",
    "        decoded = self.decoder(encoded)\n",
    "        return encoded, decoded\n",
    "\n",
    "    def initialize_weights(self):\n",
    "        # Transposez les poids de l'encodeur et copiez-les dans le décodeur\n",
    "        for enc_layer, dec_layer in zip(self.encoder, self.decoder):\n",
    "            if isinstance(enc_layer, nn.Linear) and isinstance(dec_layer, nn.Linear):\n",
    "                dec_layer.weight.data = enc_layer.weight.data.T\n",
    "                dec_layer.bias.data = enc_layer.bias.data\n"
   ]
  },
  {
   "cell_type": "code",
   "execution_count": 50,
   "metadata": {},
   "outputs": [],
   "source": [
    "class Autoencoder_sans_init(nn.Module):\n",
    "    def __init__(self, input_dim, encoding_dim):\n",
    "        super(Autoencoder_sans_init, self).__init__()\n",
    "        self.encoder = nn.Sequential(\n",
    "            nn.Linear(input_dim, encoding_dim),\n",
    "            nn.ReLU()\n",
    "        )\n",
    "        self.decoder = nn.Sequential(\n",
    "            nn.Linear(encoding_dim, input_dim),\n",
    "            nn.Sigmoid()\n",
    "        )\n",
    "\n",
    "    def forward(self, x):\n",
    "        encoded = self.encoder(x)\n",
    "        decoded = self.decoder(encoded)\n",
    "        return encoded, decoded"
   ]
  },
  {
   "cell_type": "code",
   "execution_count": 51,
   "metadata": {},
   "outputs": [
    {
     "name": "stdout",
     "output_type": "stream",
     "text": [
      "running on cuda\n"
     ]
    },
    {
     "name": "stderr",
     "output_type": "stream",
     "text": [
      "100%|██████████| 50/50 [02:23<00:00,  2.87s/it]\n"
     ]
    }
   ],
   "source": [
    "#parametre du modele\n",
    "input_dim = 784  \n",
    "encoding_dim = 32 \n",
    "n_hidden = 20\n",
    "lr = 0.01\n",
    "batch_size = 100\n",
    "iterations = 50\n",
    "criterion = nn.MSELoss()\n",
    "\n",
    "# data loader pour les données d'entrainement et de test\n",
    "\n",
    "train_loader = DataLoader(MonDataset(train_images, train_labels), batch_size=batch_size, shuffle=True)\n",
    "test_loader = DataLoader(MonDataset(test_images, test_labels), batch_size=batch_size, shuffle=True)\n",
    "\n",
    "# device\n",
    "device = torch.device( 'cuda' if torch.cuda.is_available() else 'cpu' )\n",
    "print(f\"running on {device}\")\n",
    "\n",
    "\n",
    "class State :\n",
    "    def __init__(self, model, optim) :\n",
    "        self.model = model\n",
    "        self.optim = optim\n",
    "        self.epoch, self.iteration = 0,0\n",
    "# charger un état précédent\n",
    "savepath=Path(\"model5.pch\")\n",
    "if savepath.is_file():\n",
    "    with savepath.open(\"rb\") as fp:\n",
    "        state = torch.load(fp)\n",
    "#creer un nouvel état à partir d'un modèle et d'un optimiseur\n",
    "else:\n",
    "    model = Autoencoder_sans_init(input_dim, encoding_dim)\n",
    "    model = model.to(device)\n",
    "    optimizer = torch.optim.Adam(model.parameters(), lr=lr)\n",
    "    state = State(model, optimizer)\n",
    "\n",
    "for epoch in tqdm(range(iterations)):\n",
    "    for x,y in train_loader:\n",
    "        x = x.reshape(-1, 28 * 28)/255.\n",
    "        state.optim.zero_grad()\n",
    "        x = x.to(device)\n",
    "        encoded , outputs = state.model(x)\n",
    "        loss = criterion(outputs, x)\n",
    "        writer.add_scalar(\"Loss/train\", loss, epoch)\n",
    "        loss.backward()\n",
    "        state.optim.step()\n",
    "        state.iteration += 1\n",
    "    with savepath.open(\"wb\") as fp:\n",
    "        state.epoch += 1\n",
    "        torch.save(state, fp)\n",
    "    with torch.no_grad():\n",
    "        for x, _ in test_loader:\n",
    "            x = x.reshape(-1, 28 * 28)/255.\n",
    "            x = x.to(device)\n",
    "            encoded_test, outputs_test = model(x)\n",
    "            loss_test = criterion(outputs_test, x)\n",
    "            writer.add_scalar(\"Loss/test\", loss_test, epoch)\n",
    "    "
   ]
  },
  {
   "cell_type": "code",
   "execution_count": 47,
   "metadata": {},
   "outputs": [
    {
     "name": "stdout",
     "output_type": "stream",
     "text": [
      "x avant encodage\n"
     ]
    },
    {
     "data": {
      "image/png": "[encoded data removed]",
      "text/plain": [
       "<Figure size 432x288 with 1 Axes>"
      ]
     },
     "metadata": {
      "needs_background": "light"
     },
     "output_type": "display_data"
    },
    {
     "name": "stdout",
     "output_type": "stream",
     "text": [
      "x apres encodage\n"
     ]
    },
    {
     "data": {
      "image/png": "[encoded data removed]",
      "text/plain": [
       "<Figure size 432x288 with 1 Axes>"
      ]
     },
     "metadata": {
      "needs_background": "light"
     },
     "output_type": "display_data"
    },
    {
     "name": "stdout",
     "output_type": "stream",
     "text": [
      "x apres decodage\n"
     ]
    },
    {
     "data": {
      "image/png": "[encoded data removed]",
      "text/plain": [
       "<Figure size 432x288 with 1 Axes>"
      ]
     },
     "metadata": {
      "needs_background": "light"
     },
     "output_type": "display_data"
    }
   ],
   "source": [
    "import matplotlib.pyplot as plt\n",
    "\n",
    "with torch.no_grad():\n",
    "    i=0\n",
    "    for x, _ in test_loader:\n",
    "        x = x.reshape(-1, 28 * 28)/255\n",
    "        if i==0:\n",
    "            print('x avant encodage')\n",
    "            plt.imshow(x[0].reshape(28,28).to(\"cpu\"))\n",
    "            plt.show()\n",
    "            i+=1\n",
    "        x = x.to(device)\n",
    "        encoded , outputs = model(x)\n",
    "    print('x apres encodage')\n",
    "    plt.imshow(encoded[0].reshape(4,8).to(\"cpu\"))\n",
    "    plt.show()\n",
    "    print('x apres decodage')\n",
    "    plt.imshow(outputs[0].reshape(28,28).to(\"cpu\"))\n",
    "    plt.show()\n",
    "\n"
   ]
  },
  {
   "cell_type": "code",
   "execution_count": 81,
   "metadata": {},
   "outputs": [
    {
     "name": "stdout",
     "output_type": "stream",
     "text": [
      "running on cuda\n"
     ]
    },
    {
     "name": "stderr",
     "output_type": "stream",
     "text": [
      "  0%|          | 0/10 [00:00<?, ?it/s]/tmp/ipykernel_43089/2173379003.py:60: UserWarning: To copy construct from a tensor, it is recommended to use sourceTensor.clone().detach() or sourceTensor.clone().detach().requires_grad_(True), rather than torch.tensor(sourceTensor).\n",
      "  image = torch.tensor(x[0:8].to('cpu')).unsqueeze(1).reshape(8,1,28,28).repeat(1,3,1,1)\n",
      "/tmp/ipykernel_43089/2173379003.py:62: UserWarning: To copy construct from a tensor, it is recommended to use sourceTensor.clone().detach() or sourceTensor.clone().detach().requires_grad_(True), rather than torch.tensor(sourceTensor).\n",
      "  image = torch.tensor(outputs_test[0:8].to('cpu')).unsqueeze(1).reshape(8,1,28,28).repeat(1,3,1,1)\n",
      "100%|██████████| 10/10 [00:33<00:00,  3.38s/it]\n"
     ]
    }
   ],
   "source": [
    "#parametre du modele\n",
    "input_dim = 784  \n",
    "encoding_dim = 32 \n",
    "n_hidden = 20\n",
    "lr = 0.01\n",
    "batch_size = 100\n",
    "iterations = 10\n",
    "criterion = nn.MSELoss()\n",
    "\n",
    "# data loader pour les données d'entrainement et de test\n",
    "\n",
    "train_loader = DataLoader(MonDataset(train_images, train_labels), batch_size=batch_size, shuffle=True)\n",
    "test_loader = DataLoader(MonDataset(test_images, test_labels), batch_size=batch_size, shuffle=True)\n",
    "\n",
    "# device\n",
    "device = torch.device( 'cuda' if torch.cuda.is_available() else 'cpu' )\n",
    "print(f\"running on {device}\")\n",
    "\n",
    "\n",
    "class State :\n",
    "    def __init__(self, model, optim) :\n",
    "        self.model = model\n",
    "        self.optim = optim\n",
    "        self.epoch, self.iteration = 0,0\n",
    "# charger un état précédent\n",
    "savepath=Path(\"model6.pch\")\n",
    "if savepath.is_file():\n",
    "    with savepath.open(\"rb\") as fp:\n",
    "        state = torch.load(fp)\n",
    "#creer un nouvel état à partir d'un modèle et d'un optimiseur\n",
    "else:\n",
    "    model = Autoencoder(input_dim, encoding_dim)\n",
    "    model = model.to(device)\n",
    "    optimizer = torch.optim.Adam(model.parameters(), lr=lr)\n",
    "    state = State(model, optimizer)\n",
    "\n",
    "for epoch in tqdm(range(iterations)):\n",
    "    for x,y in train_loader:\n",
    "        x = x.reshape(-1, 28 * 28)/255.\n",
    "        state.optim.zero_grad()\n",
    "        x = x.to(device)\n",
    "        encoded , outputs = state.model(x)\n",
    "        loss = criterion(outputs, x)\n",
    "        writer.add_scalar(\"Loss/train\", loss, epoch)\n",
    "        loss.backward()\n",
    "        state.optim.step()\n",
    "        state.iteration += 1\n",
    "    with savepath.open(\"wb\") as fp:\n",
    "        state.epoch += 1\n",
    "        torch.save(state, fp)\n",
    "    with torch.no_grad():\n",
    "        i = 0\n",
    "        for x, _ in test_loader:\n",
    "            x = x.reshape(-1, 28 * 28)/255.\n",
    "            x = x.to(device)\n",
    "            encoded_test, outputs_test = model(x)\n",
    "            loss_test = criterion(outputs_test, x)\n",
    "            writer.add_scalar(\"Loss/test\", loss_test, epoch)\n",
    "\n",
    "            image = torch.tensor(x[0:8].to('cpu')).unsqueeze(1).reshape(8,1,28,28).repeat(1,3,1,1)\n",
    "            writer.add_images(f'samples', image, epoch)\n",
    "            image = torch.tensor(outputs_test[0:8].to('cpu')).unsqueeze(1).reshape(8,1,28,28).repeat(1,3,1,1)\n",
    "            writer.add_images(f'decoded', image, epoch)\n",
    "            embedding = torch.tensor(outputs_test[0:8].to('cpu')).unsqueeze(1).reshape(8,1,28,28).repeat(1,3,1,1)\n",
    "            writer.add_embedding(embedding, global_step = epoch, tag = f'encoded')\n",
    "            i+=1"
   ]
  },
  {
   "cell_type": "code",
   "execution_count": null,
   "metadata": {},
   "outputs": [],
   "source": []
  }
 ],
 "metadata": {
  "kernelspec": {
   "display_name": "deepdac",
   "language": "python",
   "name": "python3"
  },
  "language_info": {
   "codemirror_mode": {
    "name": "ipython",
    "version": 3
   },
   "file_extension": ".py",
   "mimetype": "text/x-python",
   "name": "python",
   "nbconvert_exporter": "python",
   "pygments_lexer": "ipython3",
   "version": "3.10.12"
  },
  "orig_nbformat": 4
 },
 "nbformat": 4,
 "nbformat_minor": 2
}
