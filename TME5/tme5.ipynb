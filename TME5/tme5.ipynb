{
 "cells": [
  {
   "cell_type": "code",
   "execution_count": 71,
   "metadata": {},
   "outputs": [],
   "source": [
    "import torch\n",
    "import torch.nn as nn\n",
    "from torch.nn import CrossEntropyLoss\n",
    "from torch.utils.data import DataLoader\n",
    "from torch.utils.tensorboard import SummaryWriter\n",
    "from textloader import *\n",
    "#from generate import *\n",
    "import datetime\n",
    "from pathlib import Path\n",
    "import sys\n",
    "import unicodedata\n",
    "import string\n",
    "from typing import List\n",
    "#from torch.utils.data import Dataset, DataLoader\n",
    "import torch\n",
    "import re\n",
    "from textloader import  string2code, id2lettre\n",
    "import math\n",
    "import torch\n",
    "\n",
    "import matplotlib.pyplot as plt\n",
    "from tqdm import tqdm\n",
    "import numpy as np\n"
   ]
  },
  {
   "cell_type": "markdown",
   "metadata": {},
   "source": [
    "# tp5.py"
   ]
  },
  {
   "cell_type": "code",
   "execution_count": 88,
   "metadata": {},
   "outputs": [],
   "source": [
    "\n",
    "#  TODO: \n",
    "\n",
    "def maskedCrossEntropy(output: torch.Tensor, target: torch.LongTensor, padcar: int):\n",
    "    \"\"\"\n",
    "    :param output: Tenseur length x batch x output_dim,\n",
    "    :param target: Tenseur length x batch\n",
    "    :param padcar: index du caractere de padding\n",
    "    \"\"\"\n",
    "    #  TODO:  Implémenter maskedCrossEntropy sans aucune boucle, la CrossEntropy qui ne prend pas en compte les caractères de padding.\n",
    "    mask = (target != padcar)\n",
    "    loss = torch.nn.functional.cross_entropy(output.permute(0,2,1), target, reduction='none')\n",
    "    return torch.mean(loss * mask)\n",
    "    \n",
    "\n",
    "class RNN(nn.Module):\n",
    "    def __init__(self, dim_input, dim_latent, dim_output, dim_emb):\n",
    "        super().__init__()\n",
    "        self._dim_input = dim_input\n",
    "        self._dim_latent = dim_latent\n",
    "        self._dim_emb = dim_emb\n",
    "        \n",
    "        self.lin_i = nn.Linear(dim_emb, dim_latent, bias=False)\n",
    "        self.lin_h = nn.Linear(dim_latent, dim_latent, bias=True)\n",
    "        self.lin_d = nn.Linear(dim_latent, dim_output, bias=True)\n",
    "        self._tanh = nn.Tanh() \n",
    "\n",
    "    def one_step(self,x,h):\n",
    "        return self._tanh(self.lin_i(x)+ self.lin_h(h) ) \n",
    "    \n",
    "    def forward(self,x):\n",
    "        l = x.shape[0]\n",
    "        batch = x.shape[1]\n",
    "        h = torch.zeros(batch, self._dim_latent)\n",
    "        sequence = [h] \n",
    "        for i in range(l) : \n",
    "            hi = self.one_step(x[i], sequence[-1])\n",
    "            sequence.append(hi)\n",
    "        return sequence[1:]\n",
    "\n",
    "    def decode(self, h, type=\"many-to-one\"):\n",
    "        if type==\"many-to-one\":\n",
    "            return self.lin_d(h)\n",
    "        else : \n",
    "            seq = []\n",
    "            for hi in h: \n",
    "                seq.append(self.lin_d(hi))\n",
    "                \n",
    "            return torch.stack(seq)\n",
    "    \n",
    "    def embedding(self,x):\n",
    "        lin_e = torch.nn.Embedding(self._dim_input, self._dim_emb)\n",
    "        return lin_e(x)\n",
    "\n",
    "\n",
    "\n",
    "class LSTM(RNN):\n",
    "    #  TODO:  Implémenter un LSTM\n",
    "    def __init__(self, dim_input, dim_latent, dim_output, dim_emb):\n",
    "        # x_emb : (length, batch, dim_emb)\n",
    "        # h : (batch, dim_latent)\n",
    "        # c : (batch, dim_latent)\n",
    "\n",
    "        super().__init__(dim_input, dim_latent, dim_output, dim_emb)\n",
    "        \n",
    "        self._tanh = nn.Tanh() \n",
    "        self._sig = nn.Sigmoid()\n",
    "        \n",
    "        self.lin_ft = nn.Linear(dim_emb+dim_latent, dim_latent)\n",
    "        self.lin_it = nn.Linear(dim_emb+dim_latent, dim_latent)\n",
    "        self.lin_ct = nn.Linear(dim_emb+dim_latent, dim_latent)\n",
    "        self.lin_ot = nn.Linear(dim_emb+dim_latent, dim_latent)\n",
    "\n",
    "    def one_step(self, x_t, h, c):\n",
    "        # x_t : (batch, dim_emb)\n",
    "        # h_t-1 : (batch, dim_latent)\n",
    "        # c_t-1 : (batch, dim_latent)\n",
    "        \n",
    "        concat = torch.cat((h,x_t), dim=1)\n",
    "        ft = self._sig(self.lin_ft(concat))\n",
    "        it = self._sig(self.lin_it(concat))\n",
    "        ct = ft * c + it * self._tanh(self.lin_ct(concat))\n",
    "        ot = self._sig(self.lin_ot(concat))\n",
    "        ht = ot * self._tanh(ct)\n",
    "        return ht, ct\n",
    "        \n",
    "    def forward(self, x):\n",
    "        l = x.shape[0]\n",
    "        batch = x.shape[1]\n",
    "        h = torch.zeros(batch, self._dim_latent)\n",
    "        c = torch.zeros(batch, self._dim_latent)\n",
    "        sequence_h = [h] \n",
    "        sequence_c = [c]\n",
    "        for i in range(l) : \n",
    "            hi, ci = self.one_step(x[i], sequence_h[-1], sequence_c[-1])\n",
    "            sequence_h.append(hi)\n",
    "            sequence_c.append(ci)\n",
    "\n",
    "        return sequence_h[1:], sequence_c[1:]\n",
    "\n",
    "class GRU(RNN):\n",
    "    #  TODO:  Implémenter un LSTM\n",
    "    def __init__(self, dim_input, dim_latent, dim_output, dim_emb):\n",
    "        # x_emb : (length, batch, dim_emb)\n",
    "        # h : (batch, dim_latent)\n",
    "        # c : (batch, dim_latent)\n",
    "        super().__init__(dim_input, dim_latent, dim_output, dim_emb)\n",
    "        self._tanh = nn.Tanh() \n",
    "        self._sig = nn.Sigmoid()\n",
    "        \n",
    "        self.lin_zt = nn.Linear(dim_emb+dim_latent, dim_latent, bias = False)\n",
    "        self.lin_rt = nn.Linear(dim_emb+dim_latent, dim_latent, bias = False)\n",
    "        self.lin_h = nn.Linear(dim_emb+dim_latent, dim_latent, bias = False)\n",
    "\n",
    "    def one_step(self, x_t, h):\n",
    "        # x_t : (batch, dim_emb)\n",
    "        # h_t-1 : (batch, dim_latent)\n",
    "        # c_t-1 : (batch, dim_latent)\n",
    "        \n",
    "        concat = torch.cat((h,x_t), dim=1)\n",
    "        zt = self._sig(self.lin_zt(concat))\n",
    "        rt = self._sig(self.lin_rt(concat))\n",
    "\n",
    "        concat2 = torch.cat((rt*h, x_t), dim=1)\n",
    "\n",
    "        ht = (1-zt) * h + zt * self._tanh(self.lin_h(concat2))\n",
    "      \n",
    "        return ht\n",
    "\n",
    "#  TODO:  Reprenez la boucle d'apprentissage, en utilisant des embeddings plutôt que du one-hot\n"
   ]
  },
  {
   "cell_type": "markdown",
   "metadata": {},
   "source": [
    "# textloader.py"
   ]
  },
  {
   "cell_type": "code",
   "execution_count": 69,
   "metadata": {},
   "outputs": [],
   "source": [
    "\n",
    "\n",
    "## Token de padding (BLANK)\n",
    "PAD_IX = 0\n",
    "## Token de fin de séquence\n",
    "EOS_IX = 1\n",
    "\n",
    "LETTRES = string.ascii_letters + string.punctuation + string.digits + ' '\n",
    "id2lettre = dict(zip(range(2, len(LETTRES)+2), LETTRES))\n",
    "id2lettre[PAD_IX] = '<PAD>' ##NULL CHARACTER\n",
    "id2lettre[EOS_IX] = '<EOS>'\n",
    "lettre2id = dict(zip(id2lettre.values(),id2lettre.keys()))\n",
    "\n",
    "\n",
    "def normalize(s):\n",
    "    \"\"\" enlève les accents et les caractères spéciaux\"\"\"\n",
    "    return ''.join(c for c in unicodedata.normalize('NFD', s) if  c in LETTRES)\n",
    "\n",
    "def string2code(s):\n",
    "    \"\"\"prend une séquence de lettres et renvoie la séquence d'entiers correspondantes\"\"\"\n",
    "    return torch.tensor([lettre2id[c] for c in normalize(s)])\n",
    "\n",
    "def code2string(t):\n",
    "    \"\"\" prend une séquence d'entiers et renvoie la séquence de lettres correspondantes \"\"\"\n",
    "    if type(t) !=list:\n",
    "        t = t.tolist()\n",
    "    return ''.join(id2lettre[i] for i in t)\n",
    "\n",
    "\n",
    "class TextDataset(Dataset):\n",
    "    def __init__(self, text: str, *, maxsent=None, maxlen=None):\n",
    "        \"\"\"  Dataset pour les tweets de Trump\n",
    "            * fname : nom du fichier\n",
    "            * maxsent : nombre maximum de phrases.\n",
    "            * maxlen : longueur maximale des phrases.\n",
    "        \"\"\"\n",
    "        maxlen = maxlen or sys.maxsize\n",
    "        self.phrases = [re.sub(' +',' ',p[:maxlen]).strip() +\".\" for p in text.split(\".\") if len(re.sub(' +',' ',p[:maxlen]).strip())>0]\n",
    "        if maxsent is not None:\n",
    "            self.phrases=self.phrases[:maxsent]\n",
    "        self.maxlen = max([len(p) for p in self.phrases])\n",
    "\n",
    "    def __len__(self):\n",
    "        return len(self.phrases)\n",
    "\n",
    "    def __getitem__(self, i):\n",
    "        return string2code(self.phrases[i])\n",
    "\n",
    "    \n",
    "def pad_collate_fn(samples: List[List[int]]):\n",
    "    #  TODO:  Renvoie un batch à partir d'une liste de listes d'indexes (de phrases) qu'il faut padder.\n",
    "    samples = [torch.cat((sample, torch.tensor([EOS_IX]))) for sample in samples]\n",
    "    batch_size = len(samples)\n",
    "    max_len = max(len(sample) for sample in samples)\n",
    "    for i, sample in enumerate(samples):\n",
    "        padding = [ PAD_IX for _ in range(max_len - sample.shape[0])]\n",
    "        samples[i] = torch.cat((sample,torch.tensor(padding)))\n",
    "    return torch.stack(samples, dim=1)"
   ]
  },
  {
   "cell_type": "code",
   "execution_count": 3,
   "metadata": {},
   "outputs": [],
   "source": [
    "test = \"C'est. Un. Test.\"\n",
    "pred = \"C'ess. Un. Tast.\"\n",
    "ds = TextDataset(test)\n",
    "ds_pred = TextDataset(pred)\n",
    "loader = DataLoader(ds, collate_fn=pad_collate_fn, batch_size=3)\n",
    "loader_pred = DataLoader(ds_pred, collate_fn=pad_collate_fn, batch_size=3)\n",
    "y = None\n",
    "for x in loader : \n",
    "    y = x\n",
    "y = y.long()\n",
    "pred = None\n",
    "for x in loader_pred : \n",
    "    pred = x\n",
    "pred = torch.nn.functional.one_hot(pred.long(), num_classes=len(lettre2id))\n",
    "pred = torch.Tensor.float(pred)\n"
   ]
  },
  {
   "cell_type": "code",
   "execution_count": 4,
   "metadata": {},
   "outputs": [
    {
     "data": {
      "text/plain": [
       "tensor(3.0033)"
      ]
     },
     "execution_count": 4,
     "metadata": {},
     "output_type": "execute_result"
    }
   ],
   "source": [
    "maskedCrossEntropy(pred, y, PAD_IX)"
   ]
  },
  {
   "cell_type": "markdown",
   "metadata": {},
   "source": [
    "# generate.py"
   ]
  },
  {
   "cell_type": "code",
   "execution_count": 236,
   "metadata": {},
   "outputs": [],
   "source": [
    "\n",
    "\n",
    "#  TODO:  Ce fichier contient les différentes fonction de génération\n",
    "\n",
    "def generate(rnn, emb, decoder, eos, start=\"\", maxlen=200, is_lstm=False):\n",
    "    \"\"\"  Fonction de génération (l'embedding et le decodeur être des fonctions du rnn). Initialise le réseau avec start (ou à 0 si start est vide) et génère une séquence de longueur maximale 200 ou qui s'arrête quand eos est généré.\n",
    "        * rnn : le réseau\n",
    "        * emb : la couche d'embedding\n",
    "        * decoder : le décodeur\n",
    "        * eos : ID du token end of sequence\n",
    "        * start : début de la phrase\n",
    "        * maxlen : longueur maximale\n",
    "    \"\"\"\n",
    "    #  TODO:  Implémentez la génération à partir du RNN, et d'une fonction decoder qui renvoie les logits (logarithme de probabilité à une constante près, i.e. ce qui vient avant le softmax) des différentes sorties possibles\n",
    "    sentence = start\n",
    "    if start==\"\":\n",
    "        h_i = torch.zeros(1,rnn._dim_latent)\n",
    "        c_i = torch.zeros(1,rnn._dim_latent)\n",
    "    else : \n",
    "        start = string2code(start)\n",
    "        start = emb(start).unsqueeze(1)\n",
    "        h_i = rnn(start)[-1]\n",
    "        \n",
    "        if is_lstm : \n",
    "            h_i,c_i = rnn(start)\n",
    "            h_i = h_i[-1]\n",
    "            c_i = c_i[-1]\n",
    "        else : \n",
    "            h_i = rnn(start)[-1]\n",
    "\n",
    "\n",
    "    for _ in range(maxlen):\n",
    "        yhat = decoder(h_i, type=\"many-to-one\").softmax(dim=1)\n",
    "        x_i = torch.multinomial(yhat, 1)[0]\n",
    "        if x_i[0] == eos : \n",
    "            break\n",
    "        \n",
    "        car = code2string(x_i)\n",
    "        sentence += car\n",
    "\n",
    "        if is_lstm : \n",
    "            h_i,c_i = rnn.one_step(emb(x_i), h_i, c_i)\n",
    "        else : \n",
    "            h_i = rnn.one_step(emb(x_i), h_i)\n",
    "\n",
    "    return sentence\n",
    "        \n",
    "\n",
    "\n",
    "def generate_beam(rnn, emb, decoder, eos, k, start=\"\", maxlen=200):\n",
    "    \"\"\"\n",
    "        Génere une séquence en beam-search : à chaque itération, on explore pour chaque candidat les k symboles les plus probables; puis seuls les k meilleurs candidats de l'ensemble des séquences générées sont conservés (au sens de la vraisemblance) pour l'itération suivante.\n",
    "        * rnn : le réseau\n",
    "        * emb : la couche d'embedding\n",
    "        * decoder : le décodeur\n",
    "        * eos : ID du token end of sequence\n",
    "        * k : le paramètre du beam-search\n",
    "        * start : début de la phrase\n",
    "        * maxlen : longueur maximale\n",
    "    \"\"\"\n",
    "    #  TODO:  Implémentez le beam Search\n",
    "\n",
    "    if start==\"\":\n",
    "        h_i = torch.zeros(1,rnn._dim_latent)\n",
    "    else : \n",
    "        start_code = string2code(start)\n",
    "        start_emb = emb(start_code).unsqueeze(1)\n",
    "        h_i = rnn(start_emb)[-1]\n",
    "\n",
    "    K = [(start, h_i, 1)]\n",
    "    for lg in range(maxlen):\n",
    "        #print(\"---------- \"+str(lg)+\" --------------\")\n",
    "        k_temp = []\n",
    "        for seq, h, p in K:\n",
    "            \n",
    "            h_t = h\n",
    "\n",
    "            yhat = decoder(h_t, type=\"many-to-one\").softmax(dim=1)\n",
    "            top_k_probas, top_k_x_i = torch.topk(yhat, k)\n",
    "            top_k_probas = [torch.log(p) for p in top_k_probas]\n",
    "            liste_seq = code2string(top_k_x_i[0])\n",
    "            k_temp += [(seq+liste_seq[i], h, p+top_k_probas[0][i]) for i in range(k)]\n",
    "\n",
    "        k_temp.sort(key = lambda x: -x[2].item())\n",
    "        k_temp = k_temp[:k]\n",
    "        K = [(seq, rnn.one_step(emb(string2code(seq[-1])),h_i), p) if seq[-1]!=eos else (seq, h_i, p) for seq, h_i, p in k_temp ]\n",
    "        k_temp = None\n",
    "    K.sort(key = lambda x: -x[2])\n",
    "    return K[0][0]\n",
    "        \n",
    "\n",
    "# p_nucleus\n",
    "def p_nucleus(decoder, alpha: float):\n",
    "    \"\"\"Renvoie une fonction qui scalcule la distribution de probabilité sur les sorties\n",
    "\n",
    "    Args:\n",
    "        * decoder: renvoie les logits étant donné l'état du RNN\n",
    "        * alpha (float): masse de probabilité à couvrir\n",
    "    \"\"\"\n",
    "    def compute(h):\n",
    "        \"\"\"Calcule la distribution de probabilité sur les sorties\n",
    "\n",
    "        Args:\n",
    "           * h (torch.Tensor): L'état à décoder\n",
    "        \"\"\"\n",
    "        #  TODO:  Implémentez le Nucleus sampling ici (pour un état s)\n",
    "    return compute\n"
   ]
  },
  {
   "cell_type": "markdown",
   "metadata": {},
   "source": [
    "# Tests "
   ]
  },
  {
   "cell_type": "code",
   "execution_count": 90,
   "metadata": {},
   "outputs": [],
   "source": [
    "\n",
    "def learn(modele, data, epoch = 10, dim_input = len(id2lettre), is_lstm = False, dim_latent = 50,dim_output = dim_input, dim_emb = 80, batch_size=BATCH_SIZE, path=PATH, ):\n",
    "\n",
    "    writer = SummaryWriter(\"trump/\"+datetime.datetime.now().strftime(\"%Y%m%d-%H%M%S\"))\n",
    "\n",
    "\n",
    "\n",
    "    optimizer = torch.optim.Adam(modele.parameters(), lr=1e-2, weight_decay=1e-5)\n",
    "\n",
    "\n",
    "    liste_loss = []\n",
    "    liste_loss_test = []\n",
    "    for epoch in tqdm(range(epoch)):\n",
    "        \n",
    "        liste_loss_tmp = []\n",
    "\n",
    "        for x in data:\n",
    "            y = torch.vstack((x[1:],  torch.ones(x.shape[1])*PAD_IX))\n",
    "\n",
    "            x_emb = modele.embedding(x.long())\n",
    "            optimizer.zero_grad()\n",
    "            \n",
    "            if is_lstm:\n",
    "                liste_h,_ = modele(x_emb) \n",
    "            else : \n",
    "                liste_h = modele(x_emb) \n",
    "\n",
    "            yhat = modele.decode(liste_h, \"many-to-many\")\n",
    "\n",
    "            loss = maskedCrossEntropy(yhat, y.long(), PAD_IX)\n",
    "\n",
    "\n",
    "            writer.add_scalar(\"Loss/train\", loss, epoch)\n",
    "            loss.backward()\n",
    "\n",
    "            # Utilisez TensorBoard pour surveiller la magnitude des gradients\n",
    "            #for name, param in modele.named_parameters():\n",
    "            #    if param.grad is not None:\n",
    "            #        writer.add_histogram(name + '/grad', param.grad, epoch)\n",
    "\n",
    "            # Implémentez le \"gradient clipping\"\n",
    "            torch.nn.utils.clip_grad_norm_(modele.parameters(), max_norm=1.0)  \n",
    "            \n",
    "            optimizer.step()\n",
    "            \n",
    "            with torch.no_grad():\n",
    "                liste_loss_tmp.append(loss.item())\n",
    "            \n",
    "        liste_loss.append(np.mean(liste_loss_tmp))\n",
    "\n",
    "        \n",
    "    plt.figure()\n",
    "    plt.plot(np.arange(len(liste_loss)), liste_loss, label='Loss train', color='tab:orange')\n",
    "    plt.xlabel(\"Iterations\")\n",
    "    plt.title(\"Loss en train et en test\")\n",
    "    plt.legend(loc='upper left')\n",
    "    plt.show()"
   ]
  },
  {
   "cell_type": "markdown",
   "metadata": {},
   "source": [
    "## RNN"
   ]
  },
  {
   "cell_type": "code",
   "execution_count": 107,
   "metadata": {},
   "outputs": [
    {
     "name": "stderr",
     "output_type": "stream",
     "text": [
      "100%|██████████| 10/10 [04:15<00:00, 25.59s/it]\n"
     ]
    },
    {
     "data": {
      "image/png": "[encoded data removed]",
      "text/plain": [
       "<Figure size 432x288 with 1 Axes>"
      ]
     },
     "metadata": {
      "needs_background": "light"
     },
     "output_type": "display_data"
    }
   ],
   "source": [
    "BATCH_SIZE = 32\n",
    "\n",
    "PATH = \"/home/ubuntu/Documents/Sorbonne/M2/M2-AMAL/TME4/data/\"\n",
    "\n",
    "data_trump = DataLoader(TextDataset(open(PATH+\"trump_full_speech.txt\",\"rb\").read().decode(),maxlen=100), collate_fn=pad_collate_fn, batch_size= BATCH_SIZE\n",
    ", shuffle=True)\n",
    "\n",
    "\n",
    "dim_input = len(id2lettre)\n",
    "dim_latent = 50\n",
    "dim_output = dim_input\n",
    "dim_emb = 80\n",
    "\n",
    "epoch = 10\n",
    "\n",
    "\n",
    "rnn = RNN(dim_input, dim_latent, dim_input, dim_emb)\n",
    "learn(rnn, data_trump)"
   ]
  },
  {
   "cell_type": "code",
   "execution_count": 114,
   "metadata": {},
   "outputs": [
    {
     "data": {
      "text/plain": [
       "'Helloirp3nonilsegengbtfktAgApifv ye .en rootoortfsat, tmounvmrnfh rcaio'"
      ]
     },
     "execution_count": 114,
     "metadata": {},
     "output_type": "execute_result"
    }
   ],
   "source": [
    "generate(rnn, rnn.embedding, rnn.decode, EOS_IX, start=\"Hello\", maxlen=200)"
   ]
  },
  {
   "cell_type": "markdown",
   "metadata": {},
   "source": [
    "## LSTM"
   ]
  },
  {
   "cell_type": "code",
   "execution_count": 96,
   "metadata": {},
   "outputs": [
    {
     "name": "stderr",
     "output_type": "stream",
     "text": [
      "100%|██████████| 10/10 [08:22<00:00, 50.20s/it]\n"
     ]
    },
    {
     "data": {
      "image/png": "[encoded data removed]",
      "text/plain": [
       "<Figure size 432x288 with 1 Axes>"
      ]
     },
     "metadata": {
      "needs_background": "light"
     },
     "output_type": "display_data"
    }
   ],
   "source": [
    "\n",
    "BATCH_SIZE = 32\n",
    "\n",
    "PATH = \"/home/ubuntu/Documents/Sorbonne/M2/M2-AMAL/TME4/data/\"\n",
    "\n",
    "data_trump = DataLoader(TextDataset(open(PATH+\"trump_full_speech.txt\",\"rb\").read().decode(),maxlen=100), collate_fn=pad_collate_fn, batch_size= BATCH_SIZE\n",
    ", shuffle=True)\n",
    "\n",
    "\n",
    "dim_input = len(id2lettre)\n",
    "dim_latent = 50\n",
    "dim_output = dim_input\n",
    "dim_emb = 80\n",
    "\n",
    "epoch = 10\n",
    "\n",
    "\n",
    "lstm = LSTM(dim_input, dim_latent, dim_input, dim_emb)\n",
    "learn(lstm, data_trump, is_lstm=True)"
   ]
  },
  {
   "cell_type": "code",
   "execution_count": 104,
   "metadata": {},
   "outputs": [
    {
     "name": "stdout",
     "output_type": "stream",
     "text": [
      "Helloetdnrrs.a, Apiri ou'eln drt ,OrC. thy ehthuuturmmeec soe aoe wtetr  r cero\n"
     ]
    }
   ],
   "source": [
    "s = generate(lstm, lstm.embedding, lstm.decode, EOS_IX, start=\"Hello\", maxlen=200,  is_lstm=True)\n",
    "print(s)"
   ]
  },
  {
   "cell_type": "markdown",
   "metadata": {},
   "source": [
    "# GRU"
   ]
  },
  {
   "cell_type": "code",
   "execution_count": 41,
   "metadata": {},
   "outputs": [
    {
     "name": "stderr",
     "output_type": "stream",
     "text": [
      "100%|██████████| 10/10 [08:43<00:00, 52.38s/it]\n"
     ]
    },
    {
     "data": {
      "image/png": "[encoded data removed]",
      "text/plain": [
       "<Figure size 432x288 with 1 Axes>"
      ]
     },
     "metadata": {
      "needs_background": "light"
     },
     "output_type": "display_data"
    }
   ],
   "source": [
    "\n",
    "BATCH_SIZE = 32\n",
    "\n",
    "PATH = \"/home/ubuntu/Documents/Sorbonne/M2/M2-AMAL/TME4/data/\"\n",
    "\n",
    "data_trump = DataLoader(TextDataset(open(PATH+\"trump_full_speech.txt\",\"rb\").read().decode(),maxlen=100), collate_fn=pad_collate_fn, batch_size= BATCH_SIZE\n",
    ", shuffle=True)\n",
    "\n",
    "\n",
    "dim_input = len(id2lettre)\n",
    "dim_latent = 50\n",
    "dim_output = dim_input\n",
    "dim_emb = 80\n",
    "\n",
    "epoch = 10\n",
    "\n",
    "\n",
    "gru = GRU(dim_input, dim_latent, dim_input, dim_emb)\n",
    "#learn(gru, data_trump)"
   ]
  },
  {
   "cell_type": "code",
   "execution_count": 226,
   "metadata": {},
   "outputs": [
    {
     "name": "stdout",
     "output_type": "stream",
     "text": [
      "Hello s rchgr.eth ho naSnlregy bup,fdmn er.a\n"
     ]
    }
   ],
   "source": [
    "s = generate(gru, gru.embedding, gru.decode, EOS_IX, start=\"Hello \", maxlen=200)\n",
    "print(s)"
   ]
  },
  {
   "cell_type": "markdown",
   "metadata": {},
   "source": [
    "# beam search"
   ]
  },
  {
   "cell_type": "code",
   "execution_count": 252,
   "metadata": {},
   "outputs": [
    {
     "data": {
      "text/plain": [
       "'Hello          '"
      ]
     },
     "execution_count": 252,
     "metadata": {},
     "output_type": "execute_result"
    }
   ],
   "source": [
    "generate_beam(gru, gru.embedding, gru.decode, id2lettre[EOS_IX], 2, start=\"Hello\", maxlen=10)"
   ]
  },
  {
   "cell_type": "code",
   "execution_count": null,
   "metadata": {},
   "outputs": [],
   "source": []
  },
  {
   "cell_type": "code",
   "execution_count": null,
   "metadata": {},
   "outputs": [],
   "source": []
  }
 ],
 "metadata": {
  "kernelspec": {
   "display_name": "Python 3",
   "language": "python",
   "name": "python3"
  },
  "language_info": {
   "codemirror_mode": {
    "name": "ipython",
    "version": 3
   },
   "file_extension": ".py",
   "mimetype": "text/x-python",
   "name": "python",
   "nbconvert_exporter": "python",
   "pygments_lexer": "ipython3",
   "version": "3.10.12"
  }
 },
 "nbformat": 4,
 "nbformat_minor": 2
}
